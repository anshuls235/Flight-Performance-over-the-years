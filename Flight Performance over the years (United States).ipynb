{
 "cells": [
  {
   "cell_type": "markdown",
   "metadata": {},
   "source": [
    "# Flight Performance over the years (United States)"
   ]
  },
  {
   "cell_type": "markdown",
   "metadata": {},
   "source": [
    "## Author : Anshul Sharma"
   ]
  },
  {
   "cell_type": "markdown",
   "metadata": {},
   "source": [
    "## Link to my Tableau Workbook\n",
    "https://public.tableau.com/profile/anshul.sharma3446#!/vizhome/FlightPerformanceoveryearsUnitedStatesver2/Story1"
   ]
  },
  {
   "cell_type": "markdown",
   "metadata": {},
   "source": [
    "## Summary\n",
    "\n",
    "For this project, I have downloaded the flight arrival data from the bureau of transportation statistics ranging from June 2003 - December 2017. The dataset cab be found on the following website:<br><br>\n",
    "https://www.transtats.bts.gov/OT_Delay/OT_DelayCause1.asp?pn=1 <br><br>\n",
    "I have created visualizations in Tableau which answer the following questions:<br>\n",
    "- Which states in the US have received the most air traffic and how it is spatially distributed over the years, months , carrier , towns or even airports?<br>\n",
    "- What has been the flight trend and how many flights have been On Time , Delayed, Cancelled and Diverted and how are they distributed over the years and further levels of granularity?\n",
    "- Which State in the US has had the worst Delayed flight percent of the Total flights arrived?\n",
    "- What percent of the total flights have arrived On Time or have been delayed, cancelled or diverted and can these be analysed for any carrier?\n",
    "- What are the various reasons for flight delays and what is the share of each reason over the years and for any carrier?"
   ]
  },
  {
   "cell_type": "markdown",
   "metadata": {},
   "source": [
    "## Design\n",
    "When I saw the dataset, the first thought that came to my mind was to analyse the Flight info spartially over the States and further levels down the hierarchy like City or even airport. But, there was no field for state in the original dataset. Then I noticed that there are two fields: Airport and Airport Name which could be used to get the geolocation data. For airport it was easy as I just had to assign the airport geographical role to the airport, But for the State and the city name I had to use `REGEX_EXTRACT()` function to extract their names.\n",
    "<img src = 'Images/State.png'>\n",
    "Now with the states and cities extracted I just had to assign the geographical roles of State/Province and City respectively. Later I created a Hierarchy containing state, city and airport so that it becomes easier to breakdown the data.\n",
    "<img src = 'Images/Hierarchy.png'>\n",
    "Further to breakdown the data on different levels of granularity like year, quarter or month I created one calculated column Date using the year and month column using the `MAKEDATE()` function.\n",
    "<img src = 'Images/Date.png'>\n",
    "After preparing the above fields I first of all studied the flight trend over the years like how many flights have been delayed , cancelled, diverted or how many have arrived on time. With the Geographical hierarchy field and the measure values I was able to create a Spatial distribution of the number of flights arrived over the States and even break it down further to the City or even airport. Alongside, I also created a bar chart to show the number of flights delayed per each airport over the years. With all these plots I was able to create a Dashboard where anyone could play around with and notice the flight trend over the years(Year filter was also added to filter on the year range).\n",
    "<img src = 'Images/Dashboard1.png'>\n",
    "Now I thought of using percentages to analyse the data like what percent of the total flights were delayed, cancelled, diverted or on time and something like what were the reasons for the flight delay and what is there share of the total delay time. In order to work with percentages I had to create calculated columns to get the percent of any measure.\n",
    "<img src = 'Images/Percent.png'>\n",
    "Notice that I have used `SUM()` function when dividing both measures as it helps to compute the correct value at each level of granularity otherwise it messes up the calculated value at different levels.<br>\n",
    "Then, I analysed the flights on time, delayed, cancelled or diverted percent of the total flights arrived using a pie-chart with colors depicting the flight status and the angles depicting the flight status percentage. I created a spatial distribution of airports over the US to study which carrier operates where in the US. Also, a flight gets delayed due to reasons like carrier delay, late aircraft arrival, National aviation system delay, weather delay and security delay. So, to study these reasons I plotted the share of each reason of the total delay time to see which of these reasons is the most prominent. Using all these plots, I was able to create a dashboard where a user could play around with and assess the Flight statuses and delay reasons over the years. Also, added a carrier filter to make the analysis carrier specific as well.\n",
    "<img src = 'Images/Dashboard2.png'>\n",
    "After getting the feedback I felt that the column names had to be changed to avoid confusion. So, I changed the names of the columns and also added extra column if required."
   ]
  },
  {
   "cell_type": "markdown",
   "metadata": {},
   "source": [
    "## Feedbacks\n",
    "These are the set of feedbacks that I received from my mentor at udacity, *Sagarnil Das*:\n",
    "1. What do you notice about the visualization? : <b>The visualization provides a very clear cut understanding about different historical records of flights information over USA which is easily customizable and understandable.</b> - Thanks!<br><br>\n",
    "2. What questions do you have about the data? : <b>Where was this data collected from? What is the distribution of the data with respect to average delays, on time arrivals? Is it normally distributed or more likely is it a poisson/pareto distribution?</b><br><br>\n",
    "3. <b>Texas and CA has the highest no of flight arrivals. So maybe it's related to state size?</b> - Not exactly! I can say that the number of flight arrivals is proportional to the population density of the states.\n",
    "<img src = 'Images/US.png'>\n",
    "The top graph displays the number of flight arrivals and the bottom graph shows the population density.<br><br>\n",
    "4. Main takeaway from this viz : <b>It is a really good comprehensive report for past flight performances over USA. One of the takeaway is the number of flight arrivals does not follow any particular pattern over the years.</b> - True, couldn't find any relationship between years and number of flights arrived.<br><br>\n",
    "5. Something I don't understand : <b>If CA and TX have most flight arrivals, how come ATL is the busiest airport?</b> - Actually ATL here means Heartfield-Jackson Atlanta International airport. In order to avoid confusion between State names and airport names I have added airport name to the tooltip."
   ]
  },
  {
   "cell_type": "markdown",
   "metadata": {},
   "source": [
    "## Resources\n",
    "1. Tableau Community : https://community.tableau.com/welcome\n",
    "2. Tableau Traing Videos : https://www.tableau.com/learn/training"
   ]
  },
  {
   "cell_type": "code",
   "execution_count": null,
   "metadata": {
    "collapsed": true
   },
   "outputs": [],
   "source": []
  }
 ],
 "metadata": {
  "kernelspec": {
   "display_name": "Python 3",
   "language": "python",
   "name": "python3"
  },
  "language_info": {
   "codemirror_mode": {
    "name": "ipython",
    "version": 3
   },
   "file_extension": ".py",
   "mimetype": "text/x-python",
   "name": "python",
   "nbconvert_exporter": "python",
   "pygments_lexer": "ipython3",
   "version": "3.6.2"
  }
 },
 "nbformat": 4,
 "nbformat_minor": 2
}
